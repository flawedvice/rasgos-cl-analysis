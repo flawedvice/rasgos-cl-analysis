{
 "cells": [
  {
   "cell_type": "code",
   "execution_count": 1,
   "metadata": {},
   "outputs": [],
   "source": [
    "import matplotlib.pyplot as plt\n",
    "import pandas as pd\n",
    "import numpy as np\n",
    "import os"
   ]
  },
  {
   "cell_type": "markdown",
   "metadata": {},
   "source": [
    "### Set basic configuration"
   ]
  },
  {
   "cell_type": "code",
   "execution_count": 2,
   "metadata": {},
   "outputs": [],
   "source": [
    "# Recommended on documentation: https://pandas.pydata.org/pandas-docs/stable/user_guide/indexing.html#returning-a-view-versus-a-copy\n",
    "pd.options.mode.copy_on_write = True"
   ]
  },
  {
   "cell_type": "markdown",
   "metadata": {},
   "source": [
    "### Define some utilities"
   ]
  },
  {
   "cell_type": "code",
   "execution_count": 3,
   "metadata": {},
   "outputs": [],
   "source": [
    "def enforce_dir(path: str):\n",
    "    \"\"\"Accepts path separated as strings.\n",
    "    Creates directory in case it doesn't exist\"\"\"\n",
    "    if not os.path.exists(path):\n",
    "        os.makedirs(path, exist_ok=True)"
   ]
  },
  {
   "cell_type": "markdown",
   "metadata": {},
   "source": [
    "### Get the Data\n",
    "The datasets are located at GitHub.com, inside a public repository."
   ]
  },
  {
   "cell_type": "code",
   "execution_count": 4,
   "metadata": {},
   "outputs": [],
   "source": [
    "traits_url = \"https://raw.githubusercontent.com/dylancraven/Rasgos-CL/main/Data/RasgosCL_aggregatedspp.csv\"\n",
    "try:\n",
    "    traits_df = pd.read_csv(traits_url)\n",
    "except Exception as err:\n",
    "    print(f\"Error when downloading: {err}\")"
   ]
  },
  {
   "cell_type": "markdown",
   "metadata": {},
   "source": [
    "We also need a secondary dataset for geographical references:"
   ]
  },
  {
   "cell_type": "code",
   "execution_count": 5,
   "metadata": {},
   "outputs": [],
   "source": [
    "geo_url = \"https://raw.githubusercontent.com/dylancraven/Rasgos-CL/main/Extra/Chile_spp_distrib.csv\"\n",
    "try:\n",
    "    geo_df = pd.read_csv(geo_url)\n",
    "except Exception as err:\n",
    "    print(f\"Error when downloading: {err}\")"
   ]
  },
  {
   "cell_type": "markdown",
   "metadata": {},
   "source": [
    "### First species exploration\n"
   ]
  },
  {
   "cell_type": "code",
   "execution_count": 6,
   "metadata": {},
   "outputs": [
    {
     "name": "stdout",
     "output_type": "stream",
     "text": [
      "<class 'pandas.core.frame.DataFrame'>\n",
      "RangeIndex: 8643 entries, 0 to 8642\n",
      "Data columns (total 6 columns):\n",
      " #   Column            Non-Null Count  Dtype  \n",
      "---  ------            --------------  -----  \n",
      " 0   accepted_species  8643 non-null   object \n",
      " 1   traitValue        8643 non-null   object \n",
      " 2   obs               8413 non-null   float64\n",
      " 3   traitName         8643 non-null   object \n",
      " 4   agreement         7256 non-null   float64\n",
      " 5   traitUnit         8643 non-null   object \n",
      "dtypes: float64(2), object(4)\n",
      "memory usage: 405.3+ KB\n"
     ]
    },
    {
     "data": {
      "text/plain": [
       "(None,\n",
       "                obs    agreement\n",
       " count  8413.000000  7256.000000\n",
       " mean      3.020088     0.986776\n",
       " std       3.956636     0.057783\n",
       " min       1.000000     0.666667\n",
       " 25%       1.000000     1.000000\n",
       " 50%       2.000000     1.000000\n",
       " 75%       4.000000     1.000000\n",
       " max     116.000000     1.000000)"
      ]
     },
     "execution_count": 6,
     "metadata": {},
     "output_type": "execute_result"
    }
   ],
   "source": [
    "traits_df.info(), traits_df.describe()"
   ]
  },
  {
   "cell_type": "code",
   "execution_count": 7,
   "metadata": {},
   "outputs": [
    {
     "data": {
      "text/html": [
       "<div>\n",
       "<style scoped>\n",
       "    .dataframe tbody tr th:only-of-type {\n",
       "        vertical-align: middle;\n",
       "    }\n",
       "\n",
       "    .dataframe tbody tr th {\n",
       "        vertical-align: top;\n",
       "    }\n",
       "\n",
       "    .dataframe thead th {\n",
       "        text-align: right;\n",
       "    }\n",
       "</style>\n",
       "<table border=\"1\" class=\"dataframe\">\n",
       "  <thead>\n",
       "    <tr style=\"text-align: right;\">\n",
       "      <th></th>\n",
       "      <th>accepted_species</th>\n",
       "      <th>traitValue</th>\n",
       "      <th>obs</th>\n",
       "      <th>traitName</th>\n",
       "      <th>agreement</th>\n",
       "      <th>traitUnit</th>\n",
       "    </tr>\n",
       "  </thead>\n",
       "  <tbody>\n",
       "    <tr>\n",
       "      <th>8089</th>\n",
       "      <td>Senna stipulacea</td>\n",
       "      <td>Dry_pericarp</td>\n",
       "      <td>8.0</td>\n",
       "      <td>Fruit_type_2</td>\n",
       "      <td>1.000000</td>\n",
       "      <td>Dry_pericarp, Fleshy</td>\n",
       "    </tr>\n",
       "    <tr>\n",
       "      <th>4406</th>\n",
       "      <td>Haplopappus remyanus</td>\n",
       "      <td>Evergreen</td>\n",
       "      <td>2.0</td>\n",
       "      <td>Leaf_habit</td>\n",
       "      <td>1.000000</td>\n",
       "      <td>Deciduous, Evergreen, Variable</td>\n",
       "    </tr>\n",
       "    <tr>\n",
       "      <th>6051</th>\n",
       "      <td>Myrcianthes coquimbensis</td>\n",
       "      <td>Entomophily</td>\n",
       "      <td>4.0</td>\n",
       "      <td>Pollination_syndrome_2</td>\n",
       "      <td>1.000000</td>\n",
       "      <td>Ambophily, Anemophily, Autophily, Entomophily,...</td>\n",
       "    </tr>\n",
       "    <tr>\n",
       "      <th>6994</th>\n",
       "      <td>Prosopis alba</td>\n",
       "      <td>Simple_fruit</td>\n",
       "      <td>9.0</td>\n",
       "      <td>Fruit_type_1</td>\n",
       "      <td>1.000000</td>\n",
       "      <td>Compound_fruit, None, Pseudo_fruit, Simple_fru...</td>\n",
       "    </tr>\n",
       "    <tr>\n",
       "      <th>2531</th>\n",
       "      <td>Coriaria ruscifolia</td>\n",
       "      <td>Dry_pericarp</td>\n",
       "      <td>7.0</td>\n",
       "      <td>Fruit_type_2</td>\n",
       "      <td>0.857143</td>\n",
       "      <td>Dry_pericarp, Fleshy</td>\n",
       "    </tr>\n",
       "  </tbody>\n",
       "</table>\n",
       "</div>"
      ],
      "text/plain": [
       "              accepted_species    traitValue  obs               traitName  \\\n",
       "8089          Senna stipulacea  Dry_pericarp  8.0            Fruit_type_2   \n",
       "4406      Haplopappus remyanus     Evergreen  2.0              Leaf_habit   \n",
       "6051  Myrcianthes coquimbensis   Entomophily  4.0  Pollination_syndrome_2   \n",
       "6994             Prosopis alba  Simple_fruit  9.0            Fruit_type_1   \n",
       "2531       Coriaria ruscifolia  Dry_pericarp  7.0            Fruit_type_2   \n",
       "\n",
       "      agreement                                          traitUnit  \n",
       "8089   1.000000                               Dry_pericarp, Fleshy  \n",
       "4406   1.000000                     Deciduous, Evergreen, Variable  \n",
       "6051   1.000000  Ambophily, Anemophily, Autophily, Entomophily,...  \n",
       "6994   1.000000  Compound_fruit, None, Pseudo_fruit, Simple_fru...  \n",
       "2531   0.857143                               Dry_pericarp, Fleshy  "
      ]
     },
     "execution_count": 7,
     "metadata": {},
     "output_type": "execute_result"
    }
   ],
   "source": [
    "traits_df.sample(5)"
   ]
  },
  {
   "cell_type": "markdown",
   "metadata": {},
   "source": [
    "### Reordering Dataframe & filtering relevant data\n",
    "We want to know how studied the species are, which means we can reduce the size of our dataset."
   ]
  },
  {
   "cell_type": "code",
   "execution_count": 8,
   "metadata": {},
   "outputs": [],
   "source": [
    "df_ordered = traits_df[[\"accepted_species\", \"traitName\", \"obs\"]]\n",
    "df_ordered.rename(columns={\"accepted_species\": \"specie\", \"traitName\": \"trait_name\"}, inplace=True)"
   ]
  },
  {
   "cell_type": "code",
   "execution_count": 9,
   "metadata": {},
   "outputs": [
    {
     "data": {
      "text/html": [
       "<div>\n",
       "<style scoped>\n",
       "    .dataframe tbody tr th:only-of-type {\n",
       "        vertical-align: middle;\n",
       "    }\n",
       "\n",
       "    .dataframe tbody tr th {\n",
       "        vertical-align: top;\n",
       "    }\n",
       "\n",
       "    .dataframe thead th {\n",
       "        text-align: right;\n",
       "    }\n",
       "</style>\n",
       "<table border=\"1\" class=\"dataframe\">\n",
       "  <thead>\n",
       "    <tr style=\"text-align: right;\">\n",
       "      <th></th>\n",
       "      <th>total_observations</th>\n",
       "    </tr>\n",
       "    <tr>\n",
       "      <th>specie</th>\n",
       "      <th></th>\n",
       "    </tr>\n",
       "  </thead>\n",
       "  <tbody>\n",
       "    <tr>\n",
       "      <th>Acrisione cymosa</th>\n",
       "      <td>27.0</td>\n",
       "    </tr>\n",
       "    <tr>\n",
       "      <th>Acrisione denticulata</th>\n",
       "      <td>49.0</td>\n",
       "    </tr>\n",
       "    <tr>\n",
       "      <th>Adenopeltis serrata</th>\n",
       "      <td>39.0</td>\n",
       "    </tr>\n",
       "    <tr>\n",
       "      <th>Adesmia aphylla</th>\n",
       "      <td>18.0</td>\n",
       "    </tr>\n",
       "    <tr>\n",
       "      <th>Adesmia argentea</th>\n",
       "      <td>25.0</td>\n",
       "    </tr>\n",
       "  </tbody>\n",
       "</table>\n",
       "</div>"
      ],
      "text/plain": [
       "                       total_observations\n",
       "specie                                   \n",
       "Acrisione cymosa                     27.0\n",
       "Acrisione denticulata                49.0\n",
       "Adenopeltis serrata                  39.0\n",
       "Adesmia aphylla                      18.0\n",
       "Adesmia argentea                     25.0"
      ]
     },
     "execution_count": 9,
     "metadata": {},
     "output_type": "execute_result"
    }
   ],
   "source": [
    "observed_species = df_ordered.groupby(\"specie\").agg({\"obs\": [\"sum\"]})\n",
    "observed_species.columns = [\"total_observations\"]\n",
    "observed_species.head()"
   ]
  },
  {
   "cell_type": "markdown",
   "metadata": {},
   "source": [
    "## Geographical data exploration"
   ]
  },
  {
   "cell_type": "code",
   "execution_count": 14,
   "metadata": {},
   "outputs": [
    {
     "data": {
      "text/html": [
       "<div>\n",
       "<style scoped>\n",
       "    .dataframe tbody tr th:only-of-type {\n",
       "        vertical-align: middle;\n",
       "    }\n",
       "\n",
       "    .dataframe tbody tr th {\n",
       "        vertical-align: top;\n",
       "    }\n",
       "\n",
       "    .dataframe thead th {\n",
       "        text-align: right;\n",
       "    }\n",
       "</style>\n",
       "<table border=\"1\" class=\"dataframe\">\n",
       "  <thead>\n",
       "    <tr style=\"text-align: right;\">\n",
       "      <th></th>\n",
       "      <th>accepted_species</th>\n",
       "      <th>region</th>\n",
       "      <th>presencia</th>\n",
       "    </tr>\n",
       "  </thead>\n",
       "  <tbody>\n",
       "    <tr>\n",
       "      <th>0</th>\n",
       "      <td>Acrisione cymosa</td>\n",
       "      <td>AIS</td>\n",
       "      <td>1</td>\n",
       "    </tr>\n",
       "    <tr>\n",
       "      <th>1</th>\n",
       "      <td>Acrisione cymosa</td>\n",
       "      <td>ANT</td>\n",
       "      <td>0</td>\n",
       "    </tr>\n",
       "    <tr>\n",
       "      <th>2</th>\n",
       "      <td>Acrisione cymosa</td>\n",
       "      <td>ARA</td>\n",
       "      <td>1</td>\n",
       "    </tr>\n",
       "    <tr>\n",
       "      <th>3</th>\n",
       "      <td>Acrisione cymosa</td>\n",
       "      <td>ATA</td>\n",
       "      <td>0</td>\n",
       "    </tr>\n",
       "    <tr>\n",
       "      <th>4</th>\n",
       "      <td>Acrisione cymosa</td>\n",
       "      <td>AYP</td>\n",
       "      <td>0</td>\n",
       "    </tr>\n",
       "  </tbody>\n",
       "</table>\n",
       "</div>"
      ],
      "text/plain": [
       "   accepted_species region  presencia\n",
       "0  Acrisione cymosa    AIS          1\n",
       "1  Acrisione cymosa    ANT          0\n",
       "2  Acrisione cymosa    ARA          1\n",
       "3  Acrisione cymosa    ATA          0\n",
       "4  Acrisione cymosa    AYP          0"
      ]
     },
     "execution_count": 14,
     "metadata": {},
     "output_type": "execute_result"
    }
   ],
   "source": [
    "geo_df.head()"
   ]
  },
  {
   "cell_type": "code",
   "execution_count": 17,
   "metadata": {},
   "outputs": [
    {
     "data": {
      "text/plain": [
       "array(['AIS', 'ANT', 'ARA', 'ATA', 'AYP', 'BIO', 'COQ', 'IPA', 'JFE',\n",
       "       'LBO', 'LLA', 'LRI', 'MAG', 'MAU', 'NUB', 'RME', 'TAR', 'VAL'],\n",
       "      dtype=object)"
      ]
     },
     "execution_count": 17,
     "metadata": {},
     "output_type": "execute_result"
    }
   ],
   "source": [
    "geo_df.loc[:, \"region\"].unique()"
   ]
  },
  {
   "cell_type": "code",
   "execution_count": 36,
   "metadata": {},
   "outputs": [],
   "source": [
    "new_regions = {\n",
    "    'AIS': 'Aysén',\n",
    "    'ANT': 'Antofagasta',\n",
    "    'ARA': 'Araucanía',\n",
    "    'ATA': 'Atacama',\n",
    "    'AYP': 'Arica y Parinacota',\n",
    "    'BIO': 'Bío-Bío',\n",
    "    'COQ': 'Coquimbo',\n",
    "    'IPA': 'Isla de Pascua',\n",
    "    'JFE': 'Juan Fernández',\n",
    "    'LBO': 'Libertador Bernardo O\\'Higgins',\n",
    "    'LLA': 'Los Lagos',\n",
    "    'LRI': 'Los Ríos',\n",
    "    'MAG': 'Magallanes',\n",
    "    'MAU': 'Maule',\n",
    "    'NUB': 'Ñuble',\n",
    "    'RME': 'Metropolitana',\n",
    "    'TAR': 'Tarapacá',\n",
    "    'VAL': 'Valparaíso'\n",
    "}\n",
    "geo_df.columns = [\"specie\", \"location\", \"is_present\"]\n",
    "geo_df.replace(to_replace=new_regions, inplace=True)"
   ]
  },
  {
   "cell_type": "code",
   "execution_count": 106,
   "metadata": {},
   "outputs": [],
   "source": [
    "location_dataframes = list()\n",
    "grouped = geo_df.groupby(\"specie\")[[\"location\", \"is_present\"]]\n",
    "for specie_name in grouped.groups.keys():\n",
    "    specie_df = grouped.get_group(specie_name).set_index(\"location\").T\n",
    "    specie_df.index = [specie_name]\n",
    "    specie_df.columns.names = [\"\"]\n",
    "    location_dataframes.append(specie_df)\n",
    "\n",
    "located_species_df = pd.concat(location_dataframes)\n"
   ]
  },
  {
   "cell_type": "code",
   "execution_count": 118,
   "metadata": {},
   "outputs": [
    {
     "name": "stdout",
     "output_type": "stream",
     "text": [
      "<class 'pandas.core.frame.DataFrame'>\n",
      "Index: 718 entries, Acrisione cymosa to Weinmannia trichosperma\n",
      "Data columns (total 18 columns):\n",
      " #   Column                         Non-Null Count  Dtype\n",
      "---  ------                         --------------  -----\n",
      " 0   Aysén                          718 non-null    int64\n",
      " 1   Antofagasta                    718 non-null    int64\n",
      " 2   Araucanía                      718 non-null    int64\n",
      " 3   Atacama                        718 non-null    int64\n",
      " 4   Arica y Parinacota             718 non-null    int64\n",
      " 5   Bío-Bío                        718 non-null    int64\n",
      " 6   Coquimbo                       718 non-null    int64\n",
      " 7   Isla de Pascua                 718 non-null    int64\n",
      " 8   Juan Fernández                 718 non-null    int64\n",
      " 9   Libertador Bernardo O'Higgins  718 non-null    int64\n",
      " 10  Los Lagos                      718 non-null    int64\n",
      " 11  Los Ríos                       718 non-null    int64\n",
      " 12  Magallanes                     718 non-null    int64\n",
      " 13  Maule                          718 non-null    int64\n",
      " 14  Ñuble                          718 non-null    int64\n",
      " 15  Metropolitana                  718 non-null    int64\n",
      " 16  Tarapacá                       718 non-null    int64\n",
      " 17  Valparaíso                     718 non-null    int64\n",
      "dtypes: int64(18)\n",
      "memory usage: 122.7+ KB\n"
     ]
    }
   ],
   "source": [
    "located_species_df.fillna(0, inplace=True)\n",
    "located_species_corrected_df = located_species_df.astype('int64')\n",
    "located_species_corrected_df.info()"
   ]
  },
  {
   "cell_type": "code",
   "execution_count": 122,
   "metadata": {},
   "outputs": [
    {
     "data": {
      "text/html": [
       "<div>\n",
       "<style scoped>\n",
       "    .dataframe tbody tr th:only-of-type {\n",
       "        vertical-align: middle;\n",
       "    }\n",
       "\n",
       "    .dataframe tbody tr th {\n",
       "        vertical-align: top;\n",
       "    }\n",
       "\n",
       "    .dataframe thead th {\n",
       "        text-align: right;\n",
       "    }\n",
       "</style>\n",
       "<table border=\"1\" class=\"dataframe\">\n",
       "  <thead>\n",
       "    <tr style=\"text-align: right;\">\n",
       "      <th></th>\n",
       "      <th>total_observations</th>\n",
       "      <th>Aysén</th>\n",
       "      <th>Antofagasta</th>\n",
       "      <th>Araucanía</th>\n",
       "      <th>Atacama</th>\n",
       "      <th>Arica y Parinacota</th>\n",
       "      <th>Bío-Bío</th>\n",
       "      <th>Coquimbo</th>\n",
       "      <th>Isla de Pascua</th>\n",
       "      <th>Juan Fernández</th>\n",
       "      <th>Libertador Bernardo O'Higgins</th>\n",
       "      <th>Los Lagos</th>\n",
       "      <th>Los Ríos</th>\n",
       "      <th>Magallanes</th>\n",
       "      <th>Maule</th>\n",
       "      <th>Ñuble</th>\n",
       "      <th>Metropolitana</th>\n",
       "      <th>Tarapacá</th>\n",
       "      <th>Valparaíso</th>\n",
       "    </tr>\n",
       "    <tr>\n",
       "      <th>specie</th>\n",
       "      <th></th>\n",
       "      <th></th>\n",
       "      <th></th>\n",
       "      <th></th>\n",
       "      <th></th>\n",
       "      <th></th>\n",
       "      <th></th>\n",
       "      <th></th>\n",
       "      <th></th>\n",
       "      <th></th>\n",
       "      <th></th>\n",
       "      <th></th>\n",
       "      <th></th>\n",
       "      <th></th>\n",
       "      <th></th>\n",
       "      <th></th>\n",
       "      <th></th>\n",
       "      <th></th>\n",
       "      <th></th>\n",
       "    </tr>\n",
       "  </thead>\n",
       "  <tbody>\n",
       "    <tr>\n",
       "      <th>Acrisione cymosa</th>\n",
       "      <td>27.0</td>\n",
       "      <td>1</td>\n",
       "      <td>0</td>\n",
       "      <td>1</td>\n",
       "      <td>0</td>\n",
       "      <td>0</td>\n",
       "      <td>1</td>\n",
       "      <td>0</td>\n",
       "      <td>0</td>\n",
       "      <td>0</td>\n",
       "      <td>0</td>\n",
       "      <td>1</td>\n",
       "      <td>1</td>\n",
       "      <td>0</td>\n",
       "      <td>0</td>\n",
       "      <td>0</td>\n",
       "      <td>0</td>\n",
       "      <td>0</td>\n",
       "      <td>1</td>\n",
       "    </tr>\n",
       "    <tr>\n",
       "      <th>Acrisione denticulata</th>\n",
       "      <td>49.0</td>\n",
       "      <td>0</td>\n",
       "      <td>0</td>\n",
       "      <td>1</td>\n",
       "      <td>0</td>\n",
       "      <td>0</td>\n",
       "      <td>1</td>\n",
       "      <td>1</td>\n",
       "      <td>0</td>\n",
       "      <td>0</td>\n",
       "      <td>1</td>\n",
       "      <td>1</td>\n",
       "      <td>1</td>\n",
       "      <td>0</td>\n",
       "      <td>1</td>\n",
       "      <td>1</td>\n",
       "      <td>1</td>\n",
       "      <td>0</td>\n",
       "      <td>1</td>\n",
       "    </tr>\n",
       "    <tr>\n",
       "      <th>Adenopeltis serrata</th>\n",
       "      <td>39.0</td>\n",
       "      <td>0</td>\n",
       "      <td>0</td>\n",
       "      <td>0</td>\n",
       "      <td>0</td>\n",
       "      <td>0</td>\n",
       "      <td>1</td>\n",
       "      <td>1</td>\n",
       "      <td>0</td>\n",
       "      <td>0</td>\n",
       "      <td>1</td>\n",
       "      <td>0</td>\n",
       "      <td>0</td>\n",
       "      <td>0</td>\n",
       "      <td>1</td>\n",
       "      <td>1</td>\n",
       "      <td>1</td>\n",
       "      <td>0</td>\n",
       "      <td>1</td>\n",
       "    </tr>\n",
       "    <tr>\n",
       "      <th>Adesmia aphylla</th>\n",
       "      <td>18.0</td>\n",
       "      <td>0</td>\n",
       "      <td>0</td>\n",
       "      <td>0</td>\n",
       "      <td>1</td>\n",
       "      <td>0</td>\n",
       "      <td>0</td>\n",
       "      <td>1</td>\n",
       "      <td>0</td>\n",
       "      <td>0</td>\n",
       "      <td>0</td>\n",
       "      <td>0</td>\n",
       "      <td>0</td>\n",
       "      <td>0</td>\n",
       "      <td>0</td>\n",
       "      <td>0</td>\n",
       "      <td>0</td>\n",
       "      <td>0</td>\n",
       "      <td>0</td>\n",
       "    </tr>\n",
       "    <tr>\n",
       "      <th>Adesmia argentea</th>\n",
       "      <td>25.0</td>\n",
       "      <td>0</td>\n",
       "      <td>0</td>\n",
       "      <td>0</td>\n",
       "      <td>1</td>\n",
       "      <td>0</td>\n",
       "      <td>0</td>\n",
       "      <td>1</td>\n",
       "      <td>0</td>\n",
       "      <td>0</td>\n",
       "      <td>0</td>\n",
       "      <td>0</td>\n",
       "      <td>0</td>\n",
       "      <td>0</td>\n",
       "      <td>0</td>\n",
       "      <td>0</td>\n",
       "      <td>0</td>\n",
       "      <td>1</td>\n",
       "      <td>1</td>\n",
       "    </tr>\n",
       "  </tbody>\n",
       "</table>\n",
       "</div>"
      ],
      "text/plain": [
       "                       total_observations  Aysén  Antofagasta  Araucanía  \\\n",
       "specie                                                                     \n",
       "Acrisione cymosa                     27.0      1            0          1   \n",
       "Acrisione denticulata                49.0      0            0          1   \n",
       "Adenopeltis serrata                  39.0      0            0          0   \n",
       "Adesmia aphylla                      18.0      0            0          0   \n",
       "Adesmia argentea                     25.0      0            0          0   \n",
       "\n",
       "                       Atacama  Arica y Parinacota  Bío-Bío  Coquimbo  \\\n",
       "specie                                                                  \n",
       "Acrisione cymosa             0                   0        1         0   \n",
       "Acrisione denticulata        0                   0        1         1   \n",
       "Adenopeltis serrata          0                   0        1         1   \n",
       "Adesmia aphylla              1                   0        0         1   \n",
       "Adesmia argentea             1                   0        0         1   \n",
       "\n",
       "                       Isla de Pascua  Juan Fernández  \\\n",
       "specie                                                  \n",
       "Acrisione cymosa                    0               0   \n",
       "Acrisione denticulata               0               0   \n",
       "Adenopeltis serrata                 0               0   \n",
       "Adesmia aphylla                     0               0   \n",
       "Adesmia argentea                    0               0   \n",
       "\n",
       "                       Libertador Bernardo O'Higgins  Los Lagos  Los Ríos  \\\n",
       "specie                                                                      \n",
       "Acrisione cymosa                                   0          1         1   \n",
       "Acrisione denticulata                              1          1         1   \n",
       "Adenopeltis serrata                                1          0         0   \n",
       "Adesmia aphylla                                    0          0         0   \n",
       "Adesmia argentea                                   0          0         0   \n",
       "\n",
       "                       Magallanes  Maule  Ñuble  Metropolitana  Tarapacá  \\\n",
       "specie                                                                     \n",
       "Acrisione cymosa                0      0      0              0         0   \n",
       "Acrisione denticulata           0      1      1              1         0   \n",
       "Adenopeltis serrata             0      1      1              1         0   \n",
       "Adesmia aphylla                 0      0      0              0         0   \n",
       "Adesmia argentea                0      0      0              0         1   \n",
       "\n",
       "                       Valparaíso  \n",
       "specie                             \n",
       "Acrisione cymosa                1  \n",
       "Acrisione denticulata           1  \n",
       "Adenopeltis serrata             1  \n",
       "Adesmia aphylla                 0  \n",
       "Adesmia argentea                1  "
      ]
     },
     "execution_count": 122,
     "metadata": {},
     "output_type": "execute_result"
    }
   ],
   "source": [
    "merged = pd.merge(observed_species, located_species_corrected_df, left_index=True, right_index=True)\n",
    "merged.head()"
   ]
  },
  {
   "cell_type": "code",
   "execution_count": null,
   "metadata": {},
   "outputs": [],
   "source": []
  },
  {
   "cell_type": "markdown",
   "metadata": {},
   "source": [
    "# References:\n",
    "\n",
    "- Working with groups: https://realpython.com/pandas-groupby/#example-1-us-congress-dataset"
   ]
  },
  {
   "cell_type": "markdown",
   "metadata": {},
   "source": []
  }
 ],
 "metadata": {
  "kernelspec": {
   "display_name": "venv",
   "language": "python",
   "name": "python3"
  },
  "language_info": {
   "codemirror_mode": {
    "name": "ipython",
    "version": 3
   },
   "file_extension": ".py",
   "mimetype": "text/x-python",
   "name": "python",
   "nbconvert_exporter": "python",
   "pygments_lexer": "ipython3",
   "version": "3.10.12"
  }
 },
 "nbformat": 4,
 "nbformat_minor": 2
}
