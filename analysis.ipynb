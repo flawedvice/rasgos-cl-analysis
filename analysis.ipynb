{
 "cells": [
  {
   "cell_type": "code",
   "execution_count": 1,
   "metadata": {},
   "outputs": [],
   "source": [
    "import matplotlib.pyplot as plt\n",
    "import pandas as pd\n",
    "import numpy as np\n",
    "import os"
   ]
  },
  {
   "cell_type": "markdown",
   "metadata": {},
   "source": [
    "### Set basic configuration"
   ]
  },
  {
   "cell_type": "code",
   "execution_count": 25,
   "metadata": {},
   "outputs": [],
   "source": [
    "# Recommended on documentation: https://pandas.pydata.org/pandas-docs/stable/user_guide/indexing.html#returning-a-view-versus-a-copy\n",
    "pd.options.mode.copy_on_write = True"
   ]
  },
  {
   "cell_type": "markdown",
   "metadata": {},
   "source": [
    "### Define some utilities"
   ]
  },
  {
   "cell_type": "code",
   "execution_count": 26,
   "metadata": {},
   "outputs": [],
   "source": [
    "def enforce_dir(path: str):\n",
    "    \"\"\"Accepts path separated as strings.\n",
    "    Creates directory in case it doesn't exist\"\"\"\n",
    "    if not os.path.exists(path):\n",
    "        os.makedirs(path, exist_ok=True)"
   ]
  },
  {
   "cell_type": "markdown",
   "metadata": {},
   "source": [
    "### Get the Data\n",
    "The datasets are located at GitHub.com, inside a public repository."
   ]
  },
  {
   "cell_type": "code",
   "execution_count": 35,
   "metadata": {},
   "outputs": [],
   "source": [
    "traits_url = \"https://raw.githubusercontent.com/dylancraven/Rasgos-CL/main/Data/RasgosCL_aggregatedspp.csv\"\n",
    "try:\n",
    "    traits_df = pd.read_csv(traits_url)\n",
    "except Exception as err:\n",
    "    print(f\"Error when downloading: {err}\")"
   ]
  },
  {
   "cell_type": "markdown",
   "metadata": {},
   "source": [
    "We also need a secondary dataset for geographical references:"
   ]
  },
  {
   "cell_type": "code",
   "execution_count": 40,
   "metadata": {},
   "outputs": [],
   "source": [
    "geo_url = \"https://raw.githubusercontent.com/dylancraven/Rasgos-CL/main/Extra/Chile_spp_distrib.csv\"\n",
    "try:\n",
    "    geo_df = pd.read_csv(geo_url)\n",
    "except Exception as err:\n",
    "    print(f\"Error when downloading: {err}\")"
   ]
  },
  {
   "cell_type": "markdown",
   "metadata": {},
   "source": [
    "### First species exploration\n"
   ]
  },
  {
   "cell_type": "code",
   "execution_count": 37,
   "metadata": {},
   "outputs": [
    {
     "name": "stdout",
     "output_type": "stream",
     "text": [
      "<class 'pandas.core.frame.DataFrame'>\n",
      "RangeIndex: 8643 entries, 0 to 8642\n",
      "Data columns (total 6 columns):\n",
      " #   Column            Non-Null Count  Dtype  \n",
      "---  ------            --------------  -----  \n",
      " 0   accepted_species  8643 non-null   object \n",
      " 1   traitValue        8643 non-null   object \n",
      " 2   obs               8413 non-null   float64\n",
      " 3   traitName         8643 non-null   object \n",
      " 4   agreement         7256 non-null   float64\n",
      " 5   traitUnit         8643 non-null   object \n",
      "dtypes: float64(2), object(4)\n",
      "memory usage: 405.3+ KB\n"
     ]
    },
    {
     "data": {
      "text/plain": [
       "(None,\n",
       "                obs    agreement\n",
       " count  8413.000000  7256.000000\n",
       " mean      3.020088     0.986776\n",
       " std       3.956636     0.057783\n",
       " min       1.000000     0.666667\n",
       " 25%       1.000000     1.000000\n",
       " 50%       2.000000     1.000000\n",
       " 75%       4.000000     1.000000\n",
       " max     116.000000     1.000000)"
      ]
     },
     "execution_count": 37,
     "metadata": {},
     "output_type": "execute_result"
    }
   ],
   "source": [
    "traits_df.info(), traits_df.describe()"
   ]
  },
  {
   "cell_type": "code",
   "execution_count": 98,
   "metadata": {},
   "outputs": [
    {
     "data": {
      "text/html": [
       "<div>\n",
       "<style scoped>\n",
       "    .dataframe tbody tr th:only-of-type {\n",
       "        vertical-align: middle;\n",
       "    }\n",
       "\n",
       "    .dataframe tbody tr th {\n",
       "        vertical-align: top;\n",
       "    }\n",
       "\n",
       "    .dataframe thead th {\n",
       "        text-align: right;\n",
       "    }\n",
       "</style>\n",
       "<table border=\"1\" class=\"dataframe\">\n",
       "  <thead>\n",
       "    <tr style=\"text-align: right;\">\n",
       "      <th></th>\n",
       "      <th>accepted_species</th>\n",
       "      <th>traitValue</th>\n",
       "      <th>obs</th>\n",
       "      <th>traitName</th>\n",
       "      <th>agreement</th>\n",
       "      <th>traitUnit</th>\n",
       "    </tr>\n",
       "  </thead>\n",
       "  <tbody>\n",
       "    <tr>\n",
       "      <th>5421</th>\n",
       "      <td>Lobelia excelsa</td>\n",
       "      <td>Toothed</td>\n",
       "      <td>4.0</td>\n",
       "      <td>Leaf_margin_type_1</td>\n",
       "      <td>0.75</td>\n",
       "      <td>Toothed, Untoothed, No_leaves, Special_cases</td>\n",
       "    </tr>\n",
       "    <tr>\n",
       "      <th>6007</th>\n",
       "      <td>Myrceugenia parvifolia</td>\n",
       "      <td>Arbuscular</td>\n",
       "      <td>1.0</td>\n",
       "      <td>Mycorrhizal_type_2</td>\n",
       "      <td>1.00</td>\n",
       "      <td>Arbuscular, Ectomycorrhiza, Ectomycorrhiza-Arb...</td>\n",
       "    </tr>\n",
       "    <tr>\n",
       "      <th>5132</th>\n",
       "      <td>Larrea divaricata</td>\n",
       "      <td>Untoothed</td>\n",
       "      <td>1.0</td>\n",
       "      <td>Leaf_margin_type_1</td>\n",
       "      <td>1.00</td>\n",
       "      <td>Toothed, Untoothed, No_leaves, Special_cases</td>\n",
       "    </tr>\n",
       "    <tr>\n",
       "      <th>1556</th>\n",
       "      <td>Baccharis patagonica</td>\n",
       "      <td>Arbuscular</td>\n",
       "      <td>1.0</td>\n",
       "      <td>Mycorrhizal_type_2</td>\n",
       "      <td>1.00</td>\n",
       "      <td>Arbuscular, Ectomycorrhiza, Ectomycorrhiza-Arb...</td>\n",
       "    </tr>\n",
       "    <tr>\n",
       "      <th>1022</th>\n",
       "      <td>Anarthrophyllum elegans</td>\n",
       "      <td>5</td>\n",
       "      <td>1.0</td>\n",
       "      <td>Seed_mass</td>\n",
       "      <td>NaN</td>\n",
       "      <td>mg</td>\n",
       "    </tr>\n",
       "  </tbody>\n",
       "</table>\n",
       "</div>"
      ],
      "text/plain": [
       "             accepted_species  traitValue  obs           traitName  agreement  \\\n",
       "5421          Lobelia excelsa     Toothed  4.0  Leaf_margin_type_1       0.75   \n",
       "6007   Myrceugenia parvifolia  Arbuscular  1.0  Mycorrhizal_type_2       1.00   \n",
       "5132        Larrea divaricata   Untoothed  1.0  Leaf_margin_type_1       1.00   \n",
       "1556     Baccharis patagonica  Arbuscular  1.0  Mycorrhizal_type_2       1.00   \n",
       "1022  Anarthrophyllum elegans           5  1.0           Seed_mass        NaN   \n",
       "\n",
       "                                              traitUnit  \n",
       "5421       Toothed, Untoothed, No_leaves, Special_cases  \n",
       "6007  Arbuscular, Ectomycorrhiza, Ectomycorrhiza-Arb...  \n",
       "5132       Toothed, Untoothed, No_leaves, Special_cases  \n",
       "1556  Arbuscular, Ectomycorrhiza, Ectomycorrhiza-Arb...  \n",
       "1022                                                 mg  "
      ]
     },
     "execution_count": 98,
     "metadata": {},
     "output_type": "execute_result"
    }
   ],
   "source": [
    "traits_df.sample(5)"
   ]
  },
  {
   "cell_type": "markdown",
   "metadata": {},
   "source": [
    "### Reordering Dataframe & filtering relevant data\n",
    "We want to know how studied the species are, which means we can reduce the size of our dataset."
   ]
  },
  {
   "cell_type": "code",
   "execution_count": 65,
   "metadata": {},
   "outputs": [
    {
     "data": {
      "text/html": [
       "<div>\n",
       "<style scoped>\n",
       "    .dataframe tbody tr th:only-of-type {\n",
       "        vertical-align: middle;\n",
       "    }\n",
       "\n",
       "    .dataframe tbody tr th {\n",
       "        vertical-align: top;\n",
       "    }\n",
       "\n",
       "    .dataframe thead th {\n",
       "        text-align: right;\n",
       "    }\n",
       "</style>\n",
       "<table border=\"1\" class=\"dataframe\">\n",
       "  <thead>\n",
       "    <tr style=\"text-align: right;\">\n",
       "      <th></th>\n",
       "      <th>specie</th>\n",
       "      <th>trait_name</th>\n",
       "      <th>obs</th>\n",
       "    </tr>\n",
       "  </thead>\n",
       "  <tbody>\n",
       "    <tr>\n",
       "      <th>0</th>\n",
       "      <td>Acrisione cymosa</td>\n",
       "      <td>Max_plant_height</td>\n",
       "      <td>2.0</td>\n",
       "    </tr>\n",
       "    <tr>\n",
       "      <th>1</th>\n",
       "      <td>Acrisione cymosa</td>\n",
       "      <td>Seed_mass</td>\n",
       "      <td>1.0</td>\n",
       "    </tr>\n",
       "    <tr>\n",
       "      <th>2</th>\n",
       "      <td>Acrisione cymosa</td>\n",
       "      <td>Leaf_margin_type_2</td>\n",
       "      <td>1.0</td>\n",
       "    </tr>\n",
       "    <tr>\n",
       "      <th>3</th>\n",
       "      <td>Acrisione cymosa</td>\n",
       "      <td>Leaf_margin_type_1</td>\n",
       "      <td>3.0</td>\n",
       "    </tr>\n",
       "    <tr>\n",
       "      <th>4</th>\n",
       "      <td>Acrisione cymosa</td>\n",
       "      <td>Leaf_organization_1</td>\n",
       "      <td>2.0</td>\n",
       "    </tr>\n",
       "    <tr>\n",
       "      <th>5</th>\n",
       "      <td>Acrisione cymosa</td>\n",
       "      <td>Fruit_type_3</td>\n",
       "      <td>3.0</td>\n",
       "    </tr>\n",
       "    <tr>\n",
       "      <th>6</th>\n",
       "      <td>Acrisione cymosa</td>\n",
       "      <td>Fruit_type_2</td>\n",
       "      <td>3.0</td>\n",
       "    </tr>\n",
       "    <tr>\n",
       "      <th>7</th>\n",
       "      <td>Acrisione cymosa</td>\n",
       "      <td>Fruit_type_1</td>\n",
       "      <td>3.0</td>\n",
       "    </tr>\n",
       "    <tr>\n",
       "      <th>8</th>\n",
       "      <td>Acrisione cymosa</td>\n",
       "      <td>Dispersal_syndrome_1</td>\n",
       "      <td>1.0</td>\n",
       "    </tr>\n",
       "    <tr>\n",
       "      <th>9</th>\n",
       "      <td>Acrisione cymosa</td>\n",
       "      <td>Dispersal_syndrome_2</td>\n",
       "      <td>1.0</td>\n",
       "    </tr>\n",
       "    <tr>\n",
       "      <th>10</th>\n",
       "      <td>Acrisione cymosa</td>\n",
       "      <td>Leaf_habit</td>\n",
       "      <td>4.0</td>\n",
       "    </tr>\n",
       "    <tr>\n",
       "      <th>11</th>\n",
       "      <td>Acrisione cymosa</td>\n",
       "      <td>Mycorrhizal_type_1</td>\n",
       "      <td>1.0</td>\n",
       "    </tr>\n",
       "    <tr>\n",
       "      <th>12</th>\n",
       "      <td>Acrisione cymosa</td>\n",
       "      <td>Mycorrhizal_type_2</td>\n",
       "      <td>1.0</td>\n",
       "    </tr>\n",
       "    <tr>\n",
       "      <th>13</th>\n",
       "      <td>Acrisione cymosa</td>\n",
       "      <td>Growth_form</td>\n",
       "      <td>1.0</td>\n",
       "    </tr>\n",
       "  </tbody>\n",
       "</table>\n",
       "</div>"
      ],
      "text/plain": [
       "              specie            trait_name  obs\n",
       "0   Acrisione cymosa      Max_plant_height  2.0\n",
       "1   Acrisione cymosa             Seed_mass  1.0\n",
       "2   Acrisione cymosa    Leaf_margin_type_2  1.0\n",
       "3   Acrisione cymosa    Leaf_margin_type_1  3.0\n",
       "4   Acrisione cymosa   Leaf_organization_1  2.0\n",
       "5   Acrisione cymosa          Fruit_type_3  3.0\n",
       "6   Acrisione cymosa          Fruit_type_2  3.0\n",
       "7   Acrisione cymosa          Fruit_type_1  3.0\n",
       "8   Acrisione cymosa  Dispersal_syndrome_1  1.0\n",
       "9   Acrisione cymosa  Dispersal_syndrome_2  1.0\n",
       "10  Acrisione cymosa            Leaf_habit  4.0\n",
       "11  Acrisione cymosa    Mycorrhizal_type_1  1.0\n",
       "12  Acrisione cymosa    Mycorrhizal_type_2  1.0\n",
       "13  Acrisione cymosa           Growth_form  1.0"
      ]
     },
     "execution_count": 65,
     "metadata": {},
     "output_type": "execute_result"
    }
   ],
   "source": [
    "df_ordered = traits_df[[\"accepted_species\", \"traitName\", \"obs\"]]\n",
    "df_ordered.rename(columns={\"accepted_species\": \"specie\", \"traitName\": \"trait_name\"}, inplace=True)"
   ]
  },
  {
   "cell_type": "code",
   "execution_count": 116,
   "metadata": {},
   "outputs": [
    {
     "data": {
      "text/html": [
       "<div>\n",
       "<style scoped>\n",
       "    .dataframe tbody tr th:only-of-type {\n",
       "        vertical-align: middle;\n",
       "    }\n",
       "\n",
       "    .dataframe tbody tr th {\n",
       "        vertical-align: top;\n",
       "    }\n",
       "\n",
       "    .dataframe thead th {\n",
       "        text-align: right;\n",
       "    }\n",
       "</style>\n",
       "<table border=\"1\" class=\"dataframe\">\n",
       "  <thead>\n",
       "    <tr style=\"text-align: right;\">\n",
       "      <th></th>\n",
       "      <th>total_observations</th>\n",
       "    </tr>\n",
       "    <tr>\n",
       "      <th>specie</th>\n",
       "      <th></th>\n",
       "    </tr>\n",
       "  </thead>\n",
       "  <tbody>\n",
       "    <tr>\n",
       "      <th>Acrisione cymosa</th>\n",
       "      <td>27.0</td>\n",
       "    </tr>\n",
       "    <tr>\n",
       "      <th>Acrisione denticulata</th>\n",
       "      <td>49.0</td>\n",
       "    </tr>\n",
       "    <tr>\n",
       "      <th>Adenopeltis serrata</th>\n",
       "      <td>39.0</td>\n",
       "    </tr>\n",
       "    <tr>\n",
       "      <th>Adesmia aphylla</th>\n",
       "      <td>18.0</td>\n",
       "    </tr>\n",
       "    <tr>\n",
       "      <th>Adesmia argentea</th>\n",
       "      <td>25.0</td>\n",
       "    </tr>\n",
       "    <tr>\n",
       "      <th>...</th>\n",
       "      <td>...</td>\n",
       "    </tr>\n",
       "    <tr>\n",
       "      <th>Vestia foetida</th>\n",
       "      <td>35.0</td>\n",
       "    </tr>\n",
       "    <tr>\n",
       "      <th>Viviania crenata</th>\n",
       "      <td>19.0</td>\n",
       "    </tr>\n",
       "    <tr>\n",
       "      <th>Viviania marifolia</th>\n",
       "      <td>50.0</td>\n",
       "    </tr>\n",
       "    <tr>\n",
       "      <th>Viviania ovata</th>\n",
       "      <td>17.0</td>\n",
       "    </tr>\n",
       "    <tr>\n",
       "      <th>Weinmannia trichosperma</th>\n",
       "      <td>88.0</td>\n",
       "    </tr>\n",
       "  </tbody>\n",
       "</table>\n",
       "<p>718 rows × 1 columns</p>\n",
       "</div>"
      ],
      "text/plain": [
       "                         total_observations\n",
       "specie                                     \n",
       "Acrisione cymosa                       27.0\n",
       "Acrisione denticulata                  49.0\n",
       "Adenopeltis serrata                    39.0\n",
       "Adesmia aphylla                        18.0\n",
       "Adesmia argentea                       25.0\n",
       "...                                     ...\n",
       "Vestia foetida                         35.0\n",
       "Viviania crenata                       19.0\n",
       "Viviania marifolia                     50.0\n",
       "Viviania ovata                         17.0\n",
       "Weinmannia trichosperma                88.0\n",
       "\n",
       "[718 rows x 1 columns]"
      ]
     },
     "execution_count": 116,
     "metadata": {},
     "output_type": "execute_result"
    }
   ],
   "source": [
    "observed_species = df_ordered.groupby(\"specie\").agg({\"obs\": [\"sum\"]})\n",
    "observed_species.columns = [\"total_observations\"]\n",
    "observed_species"
   ]
  },
  {
   "cell_type": "code",
   "execution_count": null,
   "metadata": {},
   "outputs": [],
   "source": [
    "\n",
    "observed_species.to_csv()"
   ]
  },
  {
   "cell_type": "markdown",
   "metadata": {},
   "source": [
    "# References:\n",
    "\n",
    "- Working with groups: https://realpython.com/pandas-groupby/#example-1-us-congress-dataset"
   ]
  },
  {
   "cell_type": "markdown",
   "metadata": {},
   "source": []
  }
 ],
 "metadata": {
  "kernelspec": {
   "display_name": "venv",
   "language": "python",
   "name": "python3"
  },
  "language_info": {
   "codemirror_mode": {
    "name": "ipython",
    "version": 3
   },
   "file_extension": ".py",
   "mimetype": "text/x-python",
   "name": "python",
   "nbconvert_exporter": "python",
   "pygments_lexer": "ipython3",
   "version": "3.10.12"
  }
 },
 "nbformat": 4,
 "nbformat_minor": 2
}
